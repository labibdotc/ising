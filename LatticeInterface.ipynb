{
 "cells": [
  {
   "cell_type": "markdown",
   "metadata": {},
   "source": [
    "# Lattice Interface"
   ]
  },
  {
   "cell_type": "code",
   "execution_count": 4,
   "metadata": {},
   "outputs": [],
   "source": [
    "class LatticeInterface:\n",
    "  \"\"\"Stores spin lattice data\"\"\"\n",
    "\n",
    "  def getN(self) -> int:\n",
    "    \"\"\"Returns the number of lattice points\"\"\"\n",
    "    pass\n",
    "\n",
    "  def getJ(self) -> float:\n",
    "    \"\"\"Returns the parameter J\"\"\"\n",
    "    pass\n",
    "\n",
    "  def getSpin(self, i: int) -> int:\n",
    "    \"\"\"Returns the spin state [-1, 1] of the specified lattice point\"\"\"\n",
    "    pass\n",
    "\n",
    "  def setSpin(self, i: int, spin: int):\n",
    "    \"\"\"Sets the spin state [-1, 1] of the specified lattice point\"\"\"\n",
    "    pass\n",
    "\n",
    "  def getNeighbors(self, i: int) -> list[int]:\n",
    "    \"\"\"Returns a list of indices of the neighbors of the specified lattice point\"\"\"\n",
    "    pass\n",
    "\n",
    "  #def clone(self) -> LatticeInterface:\n",
    "    \"\"\"Returns a copy of this LatticeInterface\"\"\"\n",
    "    #pass\n",
    "\n",
    "  def flipSpin(self, i: int):\n",
    "    \"\"\"Flips the spin state [-1, 1] of the specified lattice point\"\"\"\n",
    "    if (self.getSpin(i) == 1):\n",
    "      self.setSpin(i, -1)\n",
    "    else:\n",
    "      self.setSpin(i, 1)\n",
    "\n",
    "  def getE(self) -> float:\n",
    "    \"\"\"Returns the value of the Hamiltonian H\"\"\"\n",
    "    sum = 0\n",
    "    for i in range(self.getN()):\n",
    "      for j in self.getNeighbors(i):\n",
    "        sum += self.getSpin(i) * self.getSpin(j)\n",
    "    return sum * (-self.getJ())\n",
    "\n",
    "  def getM(self) -> float:\n",
    "    \"\"\"Returns the value of the average magnetization M\"\"\"\n",
    "    sum = 0\n",
    "    for i in range(self.getN()):\n",
    "      sum += self.getSpin(i)\n",
    "    return sum / self.getN()"
   ]
  }
 ],
 "metadata": {
  "kernelspec": {
   "display_name": "Python 3",
   "language": "python",
   "name": "python3"
  },
  "language_info": {
   "codemirror_mode": {
    "name": "ipython",
    "version": 3
   },
   "file_extension": ".py",
   "mimetype": "text/x-python",
   "name": "python",
   "nbconvert_exporter": "python",
   "pygments_lexer": "ipython3",
   "version": "3.11.1"
  }
 },
 "nbformat": 4,
 "nbformat_minor": 2
}
