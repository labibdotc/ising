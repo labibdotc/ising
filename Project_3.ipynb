{
  "cells": [
    {
      "cell_type": "markdown",
      "metadata": {
        "id": "qHTvF7nxZPfq"
      },
      "source": [
        "# The Ising model"
      ]
    },
    {
      "cell_type": "code",
      "execution_count": null,
      "metadata": {
        "colab": {
          "base_uri": "https://localhost:8080/",
          "height": 927
        },
        "id": "JSNUX4byAgc2",
        "outputId": "71630997-8fdc-42ed-a496-70323028fa52"
      },
      "outputs": [],
      "source": [
        "import numpy as np\n",
        "import matplotlib.pyplot as plt\n",
        "import algorithms as alg\n",
        "import MatrixLattice as matrix\n",
        "\n",
        "param_N = 10\n",
        "param_T = 273.15\n",
        "param_kB = 1#1.380649E-23\n",
        "param_J = 1\n",
        "param_ncycles = 50\n",
        "param_beta = 0.5 # Guess\n",
        "\n",
        "#\n",
        "# Create the lattice using the parameters\n",
        "#\n",
        "globalLattice = matrix.MatrixLattice(param_J, param_N)\n",
        "\n",
        "#\n",
        "# Run the algorithms on the lattice\n",
        "#\n",
        "\n",
        "#energies_m, mag_m = alg.runMetropolis(globalLattice, plt, param_ncycles, param_T, param_kB)\n",
        "energies_w, mag_w = alg.runWolff(globalLattice, plt, param_ncycles, param_T, param_beta)"
      ]
    },
    {
      "cell_type": "markdown",
      "metadata": {
        "id": "ngDShXKzEaqf"
      },
      "source": [
        "# Animate"
      ]
    },
    {
      "cell_type": "code",
      "execution_count": 2,
      "metadata": {
        "id": "fSzf6rtQEZvU"
      },
      "outputs": [
        {
          "ename": "NameError",
          "evalue": "name 'MatrixLattice' is not defined",
          "output_type": "error",
          "traceback": [
            "\u001b[1;31m---------------------------------------------------------------------------\u001b[0m",
            "\u001b[1;31mNameError\u001b[0m                                 Traceback (most recent call last)",
            "Cell \u001b[1;32mIn[2], line 31\u001b[0m\n\u001b[0;32m     28\u001b[0m     ani \u001b[38;5;241m=\u001b[39m animation\u001b[38;5;241m.\u001b[39mFuncAnimation(fig, update, frames\u001b[38;5;241m=\u001b[39mnCycles, interval\u001b[38;5;241m=\u001b[39m\u001b[38;5;241m200\u001b[39m, repeat\u001b[38;5;241m=\u001b[39m\u001b[38;5;28;01mFalse\u001b[39;00m)\n\u001b[0;32m     29\u001b[0m     \u001b[38;5;28;01mreturn\u001b[39;00m ani\n\u001b[1;32m---> 31\u001b[0m lattice \u001b[38;5;241m=\u001b[39m MatrixLattice(param_J, param_N, c\u001b[38;5;241m=\u001b[39mparam_N)\n\u001b[0;32m     33\u001b[0m ani \u001b[38;5;241m=\u001b[39m animate_metropolis(lattice, param_kB, param_T, param_ncycles)\n\u001b[0;32m     34\u001b[0m \u001b[38;5;124;03m\"\"\"Display using HTML\"\"\"\u001b[39;00m\n",
            "\u001b[1;31mNameError\u001b[0m: name 'MatrixLattice' is not defined"
          ]
        }
      ],
      "source": [
        "from matplotlib import animation, rc\n",
        "from IPython.display import HTML\n",
        "\n",
        "def animate_metropolis(lattice, kB, T, nCycles):\n",
        "    \"\"\"Make the plot itself\"\"\"\n",
        "    fig, ax = plt.subplots()\n",
        "\n",
        "    def update(frame):\n",
        "        nonlocal E\n",
        "        \"\"\"Iterate over all the lattice points\"\"\"\n",
        "        for i in range(lattice.getN()):\n",
        "            \"\"\"Flip the spin of some randome lattice point and calculate deltaE\"\"\"\n",
        "            lattice.flipSpin(random.randint(0, lattice.getN() - 1))\n",
        "            E1 = lattice.getE()\n",
        "            deltaE = E1 - E\n",
        "            \"\"\"Decide if we should accept the flip\"\"\"\n",
        "            if (deltaE < 0 or (random.random() < np.exp(-deltaE / (kB * T)))):\n",
        "                E = E1\n",
        "\n",
        "        ax.clear()\n",
        "        \"\"\"Display current lattice frame\"\"\"\n",
        "        ax.imshow(lattice._lattice, cmap='binary', interpolation='nearest')\n",
        "        ax.set_title(f\"Step {frame}\")\n",
        "        return ax\n",
        "\n",
        "    E = lattice.getE()\n",
        "    \"\"\"make animation\"\"\"\n",
        "    ani = animation.FuncAnimation(fig, update, frames=nCycles, interval=200, repeat=False)\n",
        "    return ani\n",
        "\n",
        "lattice = MatrixLattice(param_J, param_N, c=param_N)\n",
        "\n",
        "ani = animate_metropolis(lattice, param_kB, param_T, param_ncycles)\n",
        "\"\"\"Display using HTML\"\"\"\n",
        "HTML(ani.to_jshtml())"
      ]
    },
    {
      "cell_type": "code",
      "execution_count": null,
      "metadata": {
        "id": "Sbi00_c8RHf1"
      },
      "outputs": [],
      "source": [
        "def animate_wolff(lattice, beta, T, nCycles):\n",
        "    fig, ax = plt.subplots()\n",
        "    ax.set_xticks([])\n",
        "    ax.set_yticks([])\n",
        "\n",
        "    def update(frame):\n",
        "        nonlocal energies  # Declare energies as non-local variable\n",
        "        curr = random.randint(0, lattice.getN() - 1)  # Choose a random initial point\n",
        "\n",
        "        cluster = [0 for _ in range(lattice.getN())]  # Create an array to track the cluster\n",
        "        activated = [0 for _ in range(lattice.getN())]  # Create an array to track activated sites\n",
        "\n",
        "        cluster[curr] = 1  # Add the initial point to the cluster\n",
        "        activate_links(curr, cluster, activated)  # Activate links recursively\n",
        "\n",
        "        for i in range(lattice.getN()):  # Loop through the lattice and flip spins in the cluster\n",
        "            if cluster[i]:\n",
        "                lattice.flipSpin(i)\n",
        "\n",
        "        E = lattice.getE()  # Get the energy of the lattice\n",
        "        energies.append(E)\n",
        "\n",
        "        ax.clear()\n",
        "        ax.imshow(lattice._lattice, cmap='binary', interpolation='nearest')\n",
        "        ax.set_title(f\"Step {frame}\")\n",
        "        return ax\n",
        "\n",
        "    energies = []  # Initialize energies array\n",
        "    lattice.generateLattice()  # Generate the lattice\n",
        "    ani = animation.FuncAnimation(fig, update, frames=nCycles, interval=200, repeat=False)\n",
        "    return ani\n",
        "\n",
        "# Example usage\n",
        "lattice = MatrixLattice(param_N, param_N, param_J)\n",
        "ani = animate_wolff(lattice, param_beta, param_T, param_ncycles)\n",
        "HTML(ani.to_jshtml())"
      ]
    }
  ],
  "metadata": {
    "colab": {
      "collapsed_sections": [
        "XWWRV2hXAVwz",
        "IyOGf8Wlqxi8",
        "hTFp7TPI7vsE",
        "ngDShXKzEaqf"
      ],
      "provenance": []
    },
    "kernelspec": {
      "display_name": "Python 3",
      "name": "python3"
    },
    "language_info": {
      "codemirror_mode": {
        "name": "ipython",
        "version": 3
      },
      "file_extension": ".py",
      "mimetype": "text/x-python",
      "name": "python",
      "nbconvert_exporter": "python",
      "pygments_lexer": "ipython3",
      "version": "3.11.5"
    }
  },
  "nbformat": 4,
  "nbformat_minor": 0
}
